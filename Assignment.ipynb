{
 "cells": [
  {
   "cell_type": "markdown",
   "id": "6902e8f5",
   "metadata": {},
   "source": [
    "### Questions"
   ]
  },
  {
   "cell_type": "markdown",
   "id": "81cb2f34",
   "metadata": {},
   "source": [
    "1) Create your own package for the list function. <br>\n",
    "2) Create your own package for all the tuple function. <br>\n",
    "3) your own package for all the dictionary function. <br>\n",
    "4) create your own package for all the set function. <br>\n",
    "\n",
    "Guidelines: <br>\n",
    "1) always use exception handling. <br>\n",
    "2) never use print. <br>\n",
    "3) always use logging while writing the code and log every activity in respective logging file. <br>\n"
   ]
  },
  {
   "cell_type": "markdown",
   "id": "f133bc56",
   "metadata": {},
   "source": [
    "# 1. Implementing the List package functions"
   ]
  },
  {
   "cell_type": "code",
   "execution_count": 1,
   "id": "e9e02952",
   "metadata": {},
   "outputs": [],
   "source": [
    "from list.lisfunction import *"
   ]
  },
  {
   "cell_type": "markdown",
   "id": "a92f7794",
   "metadata": {},
   "source": [
    "##### Creating the list object"
   ]
  },
  {
   "cell_type": "code",
   "execution_count": 2,
   "id": "38b998eb",
   "metadata": {},
   "outputs": [],
   "source": [
    "l=ListClass([1,2,3,4,5])"
   ]
  },
  {
   "cell_type": "code",
   "execution_count": 3,
   "id": "56eb3514",
   "metadata": {},
   "outputs": [
    {
     "name": "stdout",
     "output_type": "stream",
     "text": [
      "Your list is: [1, 2, 3, 4, 5]\n"
     ]
    }
   ],
   "source": [
    "print(l)"
   ]
  },
  {
   "cell_type": "markdown",
   "id": "d2a3bfdb",
   "metadata": {},
   "source": [
    "#### Calling the append function"
   ]
  },
  {
   "cell_type": "code",
   "execution_count": 4,
   "id": "aac80931",
   "metadata": {},
   "outputs": [],
   "source": [
    "l.append([4,5])"
   ]
  },
  {
   "cell_type": "code",
   "execution_count": 5,
   "id": "fded0e4b",
   "metadata": {},
   "outputs": [
    {
     "name": "stdout",
     "output_type": "stream",
     "text": [
      "Your list is: [1, 2, 3, 4, 5, [4, 5]]\n"
     ]
    }
   ],
   "source": [
    "print(l)"
   ]
  },
  {
   "cell_type": "markdown",
   "id": "b501de46",
   "metadata": {},
   "source": [
    "#### Calling the clear function"
   ]
  },
  {
   "cell_type": "code",
   "execution_count": 6,
   "id": "d8d75c31",
   "metadata": {},
   "outputs": [],
   "source": [
    "l.clear()"
   ]
  },
  {
   "cell_type": "code",
   "execution_count": 7,
   "id": "f2e39188",
   "metadata": {},
   "outputs": [
    {
     "name": "stdout",
     "output_type": "stream",
     "text": [
      "Your list is: []\n"
     ]
    }
   ],
   "source": [
    "print(l)"
   ]
  },
  {
   "cell_type": "markdown",
   "id": "72379cba",
   "metadata": {},
   "source": [
    "#### Calling the copy function"
   ]
  },
  {
   "cell_type": "code",
   "execution_count": 8,
   "id": "b9532cbf",
   "metadata": {},
   "outputs": [],
   "source": [
    "l1=l.copy()"
   ]
  },
  {
   "cell_type": "code",
   "execution_count": 9,
   "id": "1cd8143c",
   "metadata": {},
   "outputs": [],
   "source": [
    "l1.append(23)"
   ]
  },
  {
   "cell_type": "code",
   "execution_count": 10,
   "id": "8824a376",
   "metadata": {},
   "outputs": [
    {
     "name": "stdout",
     "output_type": "stream",
     "text": [
      "Your list is: [23]\n"
     ]
    }
   ],
   "source": [
    "print(l1)"
   ]
  },
  {
   "cell_type": "code",
   "execution_count": 11,
   "id": "136019b8",
   "metadata": {},
   "outputs": [
    {
     "name": "stdout",
     "output_type": "stream",
     "text": [
      "Your list is: []\n"
     ]
    }
   ],
   "source": [
    "print(l)    #  Clearly performing operation on l1 and it is not impacting l"
   ]
  },
  {
   "cell_type": "markdown",
   "id": "c33d5a7b",
   "metadata": {},
   "source": [
    "#### Calling the count function"
   ]
  },
  {
   "cell_type": "code",
   "execution_count": 12,
   "id": "17645a41",
   "metadata": {},
   "outputs": [],
   "source": [
    "l=ListClass([1,2,34])"
   ]
  },
  {
   "cell_type": "code",
   "execution_count": 13,
   "id": "a986ffae",
   "metadata": {},
   "outputs": [
    {
     "data": {
      "text/plain": [
       "0"
      ]
     },
     "execution_count": 13,
     "metadata": {},
     "output_type": "execute_result"
    }
   ],
   "source": [
    "l.count(23)"
   ]
  },
  {
   "cell_type": "code",
   "execution_count": 14,
   "id": "74bb118c",
   "metadata": {},
   "outputs": [
    {
     "data": {
      "text/plain": [
       "1"
      ]
     },
     "execution_count": 14,
     "metadata": {},
     "output_type": "execute_result"
    }
   ],
   "source": [
    "l.count(1)"
   ]
  },
  {
   "cell_type": "markdown",
   "id": "a9ae342f",
   "metadata": {},
   "source": [
    "#### Calling the extend function"
   ]
  },
  {
   "cell_type": "code",
   "execution_count": 15,
   "id": "759bdc13",
   "metadata": {},
   "outputs": [],
   "source": [
    "l.extend([1,2,6,7,9])"
   ]
  },
  {
   "cell_type": "code",
   "execution_count": 16,
   "id": "62a51caf",
   "metadata": {},
   "outputs": [
    {
     "name": "stdout",
     "output_type": "stream",
     "text": [
      "Your list is: [1, 2, 34, 1, 2, 6, 7, 9]\n"
     ]
    }
   ],
   "source": [
    "print(l)"
   ]
  },
  {
   "cell_type": "markdown",
   "id": "45373e22",
   "metadata": {},
   "source": [
    "#### Calling index function"
   ]
  },
  {
   "cell_type": "code",
   "execution_count": 17,
   "id": "e5682499",
   "metadata": {},
   "outputs": [
    {
     "data": {
      "text/plain": [
       "5"
      ]
     },
     "execution_count": 17,
     "metadata": {},
     "output_type": "execute_result"
    }
   ],
   "source": [
    "l.index(6)"
   ]
  },
  {
   "cell_type": "markdown",
   "id": "fef5ffe1",
   "metadata": {},
   "source": [
    "#### Calling insert function"
   ]
  },
  {
   "cell_type": "code",
   "execution_count": 18,
   "id": "4855af8a",
   "metadata": {},
   "outputs": [],
   "source": [
    "l.insert(4,\"test\")"
   ]
  },
  {
   "cell_type": "code",
   "execution_count": 19,
   "id": "9b166c06",
   "metadata": {},
   "outputs": [
    {
     "name": "stdout",
     "output_type": "stream",
     "text": [
      "Your list is: [1, 2, 34, 1, 'test', 2, 6, 7, 9]\n"
     ]
    }
   ],
   "source": [
    "print(l)"
   ]
  },
  {
   "cell_type": "markdown",
   "id": "6e31c153",
   "metadata": {},
   "source": [
    "#### Calling pop function"
   ]
  },
  {
   "cell_type": "code",
   "execution_count": 20,
   "id": "0fa6205e",
   "metadata": {},
   "outputs": [],
   "source": [
    "l.pop(index=4)"
   ]
  },
  {
   "cell_type": "code",
   "execution_count": 21,
   "id": "cf4acd2d",
   "metadata": {},
   "outputs": [
    {
     "name": "stdout",
     "output_type": "stream",
     "text": [
      "Your list is: [1, 2, 34, 1, 2, 6, 7, 9]\n"
     ]
    }
   ],
   "source": [
    "print(l)"
   ]
  },
  {
   "cell_type": "markdown",
   "id": "6a1523d9",
   "metadata": {},
   "source": [
    "#### Calling remove function"
   ]
  },
  {
   "cell_type": "code",
   "execution_count": 22,
   "id": "20f5a58c",
   "metadata": {},
   "outputs": [],
   "source": [
    "l.remove(34)"
   ]
  },
  {
   "cell_type": "code",
   "execution_count": 23,
   "id": "d2c195f6",
   "metadata": {},
   "outputs": [
    {
     "name": "stdout",
     "output_type": "stream",
     "text": [
      "Your list is: [1, 2, 1, 2, 6, 7, 9]\n"
     ]
    }
   ],
   "source": [
    "print(l)"
   ]
  },
  {
   "cell_type": "markdown",
   "id": "95e4401b",
   "metadata": {},
   "source": [
    "#### Calling reverse function"
   ]
  },
  {
   "cell_type": "code",
   "execution_count": 24,
   "id": "698e3cc7",
   "metadata": {},
   "outputs": [],
   "source": [
    "l.reverse()"
   ]
  },
  {
   "cell_type": "code",
   "execution_count": 25,
   "id": "8b41ab99",
   "metadata": {},
   "outputs": [
    {
     "name": "stdout",
     "output_type": "stream",
     "text": [
      "Your list is: [9, 7, 6, 2, 1, 2, 1]\n"
     ]
    }
   ],
   "source": [
    "print(l)"
   ]
  },
  {
   "cell_type": "markdown",
   "id": "1edfb340",
   "metadata": {},
   "source": [
    "#### Calling sort function"
   ]
  },
  {
   "cell_type": "code",
   "execution_count": 26,
   "id": "f1303098",
   "metadata": {},
   "outputs": [],
   "source": [
    "l.sort()    # sorting in ascending order"
   ]
  },
  {
   "cell_type": "code",
   "execution_count": 27,
   "id": "bf12297a",
   "metadata": {},
   "outputs": [
    {
     "name": "stdout",
     "output_type": "stream",
     "text": [
      "Your list is: [1, 1, 2, 2, 6, 7, 9]\n"
     ]
    }
   ],
   "source": [
    "print(l)"
   ]
  },
  {
   "cell_type": "code",
   "execution_count": 28,
   "id": "1464e23b",
   "metadata": {},
   "outputs": [],
   "source": [
    "l.sort(reverse=True)  # sorting in descending order"
   ]
  },
  {
   "cell_type": "code",
   "execution_count": 29,
   "id": "fd0fc287",
   "metadata": {},
   "outputs": [
    {
     "name": "stdout",
     "output_type": "stream",
     "text": [
      "Your list is: [9, 7, 6, 2, 2, 1, 1]\n"
     ]
    }
   ],
   "source": [
    "print(l)"
   ]
  },
  {
   "cell_type": "code",
   "execution_count": null,
   "id": "2d68728a",
   "metadata": {},
   "outputs": [],
   "source": []
  },
  {
   "cell_type": "markdown",
   "id": "55ce1438",
   "metadata": {},
   "source": [
    "#### + operator"
   ]
  },
  {
   "cell_type": "code",
   "execution_count": 30,
   "id": "15bd31ed",
   "metadata": {},
   "outputs": [
    {
     "name": "stdout",
     "output_type": "stream",
     "text": [
      "Your list is: [9, 7, 6, 2, 2, 1, 1]\n"
     ]
    }
   ],
   "source": [
    "print(l)"
   ]
  },
  {
   "cell_type": "code",
   "execution_count": 31,
   "id": "b45e3562",
   "metadata": {},
   "outputs": [],
   "source": [
    "l1=ListClass([34,56,78])"
   ]
  },
  {
   "cell_type": "code",
   "execution_count": 32,
   "id": "158b764f",
   "metadata": {},
   "outputs": [
    {
     "name": "stdout",
     "output_type": "stream",
     "text": [
      "Your list is: [34, 56, 78]\n"
     ]
    }
   ],
   "source": [
    "print(l1)"
   ]
  },
  {
   "cell_type": "code",
   "execution_count": 33,
   "id": "88ffd0ee",
   "metadata": {},
   "outputs": [],
   "source": [
    "concat_list=l+l1"
   ]
  },
  {
   "cell_type": "code",
   "execution_count": 34,
   "id": "6367198c",
   "metadata": {},
   "outputs": [
    {
     "name": "stdout",
     "output_type": "stream",
     "text": [
      "Your list is: [9, 7, 6, 2, 2, 1, 1, 34, 56, 78]\n"
     ]
    }
   ],
   "source": [
    "print(concat_list)"
   ]
  },
  {
   "cell_type": "code",
   "execution_count": null,
   "id": "241edcca",
   "metadata": {},
   "outputs": [],
   "source": []
  },
  {
   "cell_type": "markdown",
   "id": "835d3048",
   "metadata": {},
   "source": [
    "#### * operator"
   ]
  },
  {
   "cell_type": "code",
   "execution_count": 35,
   "id": "c551f477",
   "metadata": {},
   "outputs": [
    {
     "name": "stdout",
     "output_type": "stream",
     "text": [
      "Your list is: [9, 7, 6, 2, 2, 1, 1]\n"
     ]
    }
   ],
   "source": [
    "print(l)"
   ]
  },
  {
   "cell_type": "code",
   "execution_count": 36,
   "id": "64406121",
   "metadata": {},
   "outputs": [],
   "source": [
    "multiplied_list=l * 4"
   ]
  },
  {
   "cell_type": "code",
   "execution_count": 37,
   "id": "bab1e201",
   "metadata": {},
   "outputs": [
    {
     "name": "stdout",
     "output_type": "stream",
     "text": [
      "Your list is: [9, 7, 6, 2, 2, 1, 1, 9, 7, 6, 2, 2, 1, 1, 9, 7, 6, 2, 2, 1, 1, 9, 7, 6, 2, 2, 1, 1]\n"
     ]
    }
   ],
   "source": [
    "print(multiplied_list)"
   ]
  },
  {
   "cell_type": "code",
   "execution_count": null,
   "id": "4414a0c5",
   "metadata": {},
   "outputs": [],
   "source": []
  },
  {
   "cell_type": "code",
   "execution_count": null,
   "id": "e0f87f47",
   "metadata": {},
   "outputs": [],
   "source": []
  },
  {
   "cell_type": "markdown",
   "id": "aa3c5f86",
   "metadata": {},
   "source": [
    "# 2. Implementing the Tuple package functions"
   ]
  },
  {
   "cell_type": "code",
   "execution_count": 1,
   "id": "2348faf4",
   "metadata": {},
   "outputs": [],
   "source": [
    "from Tuple.TupleFunctions import TupleClass"
   ]
  },
  {
   "cell_type": "markdown",
   "id": "9ef116bf",
   "metadata": {},
   "source": [
    "### Creating the Tuple object"
   ]
  },
  {
   "cell_type": "code",
   "execution_count": 2,
   "id": "42d5dcfc",
   "metadata": {},
   "outputs": [],
   "source": [
    "t = TupleClass((1,2,3,4,5))"
   ]
  },
  {
   "cell_type": "code",
   "execution_count": 3,
   "id": "22397aa3",
   "metadata": {},
   "outputs": [
    {
     "name": "stdout",
     "output_type": "stream",
     "text": [
      "Your tuple is: (1, 2, 3, 4, 5)\n"
     ]
    }
   ],
   "source": [
    "print(t)"
   ]
  },
  {
   "cell_type": "markdown",
   "id": "ae5f3e12",
   "metadata": {},
   "source": [
    "#### Calling count function"
   ]
  },
  {
   "cell_type": "code",
   "execution_count": 4,
   "id": "763f91d5",
   "metadata": {},
   "outputs": [
    {
     "data": {
      "text/plain": [
       "1"
      ]
     },
     "execution_count": 4,
     "metadata": {},
     "output_type": "execute_result"
    }
   ],
   "source": [
    "t.count(4)"
   ]
  },
  {
   "cell_type": "markdown",
   "id": "b9e4a4eb",
   "metadata": {},
   "source": [
    "#### Calling index function"
   ]
  },
  {
   "cell_type": "code",
   "execution_count": 5,
   "id": "24eadc59",
   "metadata": {},
   "outputs": [
    {
     "data": {
      "text/plain": [
       "3"
      ]
     },
     "execution_count": 5,
     "metadata": {},
     "output_type": "execute_result"
    }
   ],
   "source": [
    "t.index(4)"
   ]
  },
  {
   "cell_type": "markdown",
   "id": "78b59e49",
   "metadata": {},
   "source": [
    "#### Using + operator"
   ]
  },
  {
   "cell_type": "code",
   "execution_count": 6,
   "id": "54b752fe",
   "metadata": {},
   "outputs": [],
   "source": [
    "t1 = t + TupleClass((6,5,3))"
   ]
  },
  {
   "cell_type": "code",
   "execution_count": 7,
   "id": "b0250f39",
   "metadata": {},
   "outputs": [
    {
     "name": "stdout",
     "output_type": "stream",
     "text": [
      "Your tuple is: (1, 2, 3, 4, 5, 6, 5, 3)\n"
     ]
    }
   ],
   "source": [
    "print(t1)"
   ]
  },
  {
   "cell_type": "markdown",
   "id": "47332575",
   "metadata": {},
   "source": [
    "#### Using * operator"
   ]
  },
  {
   "cell_type": "code",
   "execution_count": 8,
   "id": "ba1009a0",
   "metadata": {},
   "outputs": [],
   "source": [
    "t1=t*4"
   ]
  },
  {
   "cell_type": "code",
   "execution_count": 9,
   "id": "08c4891f",
   "metadata": {},
   "outputs": [
    {
     "name": "stdout",
     "output_type": "stream",
     "text": [
      "Your tuple is: (1, 2, 3, 4, 5, 1, 2, 3, 4, 5, 1, 2, 3, 4, 5, 1, 2, 3, 4, 5)\n"
     ]
    }
   ],
   "source": [
    "print(t1)"
   ]
  },
  {
   "cell_type": "code",
   "execution_count": null,
   "id": "fd052196",
   "metadata": {},
   "outputs": [],
   "source": []
  },
  {
   "cell_type": "markdown",
   "id": "4a4a50ef",
   "metadata": {},
   "source": [
    "# 3. Implementing the dictionary package functions"
   ]
  },
  {
   "cell_type": "code",
   "execution_count": 1,
   "id": "560dfdeb",
   "metadata": {},
   "outputs": [],
   "source": [
    "from Dictionary.DictionaryFunctions import DictionaryClass"
   ]
  },
  {
   "cell_type": "markdown",
   "id": "8dc65233",
   "metadata": {},
   "source": [
    "#### Creating dictionary object"
   ]
  },
  {
   "cell_type": "code",
   "execution_count": 2,
   "id": "c9ec333f",
   "metadata": {},
   "outputs": [],
   "source": [
    "d=DictionaryClass({1:2,3:4,\"x\":\"y\",\"a\":[1,2,3,4]})"
   ]
  },
  {
   "cell_type": "code",
   "execution_count": 3,
   "id": "65ba660e",
   "metadata": {},
   "outputs": [
    {
     "name": "stdout",
     "output_type": "stream",
     "text": [
      "Your dictionary is: {1: 2, 3: 4, 'x': 'y', 'a': [1, 2, 3, 4]}\n"
     ]
    }
   ],
   "source": [
    "print(d)"
   ]
  },
  {
   "cell_type": "markdown",
   "id": "6b267a8a",
   "metadata": {},
   "source": [
    "#### Calling clear function"
   ]
  },
  {
   "cell_type": "code",
   "execution_count": 4,
   "id": "ae55fd40",
   "metadata": {},
   "outputs": [],
   "source": [
    "d.clear()"
   ]
  },
  {
   "cell_type": "code",
   "execution_count": 5,
   "id": "60960b62",
   "metadata": {},
   "outputs": [
    {
     "name": "stdout",
     "output_type": "stream",
     "text": [
      "Your dictionary is: {}\n"
     ]
    }
   ],
   "source": [
    "print(d)"
   ]
  },
  {
   "cell_type": "markdown",
   "id": "1d92d320",
   "metadata": {},
   "source": [
    "#### Calling copy function"
   ]
  },
  {
   "cell_type": "code",
   "execution_count": 6,
   "id": "591a5134",
   "metadata": {},
   "outputs": [],
   "source": [
    "d=DictionaryClass({1:2,3:4,\"a\":\"b\",\"f\":(1,2,3)})"
   ]
  },
  {
   "cell_type": "code",
   "execution_count": 7,
   "id": "13af3e72",
   "metadata": {},
   "outputs": [],
   "source": [
    "d1=d.copy()"
   ]
  },
  {
   "cell_type": "code",
   "execution_count": 8,
   "id": "82fa5dfb",
   "metadata": {},
   "outputs": [
    {
     "name": "stdout",
     "output_type": "stream",
     "text": [
      "Your dictionary is: {1: 2, 3: 4, 'a': 'b', 'f': (1, 2, 3)}\n"
     ]
    }
   ],
   "source": [
    "print(d1)"
   ]
  },
  {
   "cell_type": "code",
   "execution_count": 9,
   "id": "c74d6578",
   "metadata": {},
   "outputs": [],
   "source": [
    "d1.clear()"
   ]
  },
  {
   "cell_type": "code",
   "execution_count": 10,
   "id": "82c4e565",
   "metadata": {},
   "outputs": [
    {
     "name": "stdout",
     "output_type": "stream",
     "text": [
      "Your dictionary is: {}\n"
     ]
    }
   ],
   "source": [
    "print(d1)"
   ]
  },
  {
   "cell_type": "code",
   "execution_count": 11,
   "id": "b2b9b111",
   "metadata": {},
   "outputs": [
    {
     "name": "stdout",
     "output_type": "stream",
     "text": [
      "Your dictionary is: {1: 2, 3: 4, 'a': 'b', 'f': (1, 2, 3)}\n"
     ]
    }
   ],
   "source": [
    "print(d)  # change in d1 not impacting d"
   ]
  },
  {
   "cell_type": "markdown",
   "id": "6f2697d1",
   "metadata": {},
   "source": [
    "#### Calling from keys method "
   ]
  },
  {
   "cell_type": "code",
   "execution_count": 12,
   "id": "fae7cb4e",
   "metadata": {},
   "outputs": [],
   "source": [
    "d1=d.fromkeys([1,2,3,4,5],value=8)"
   ]
  },
  {
   "cell_type": "code",
   "execution_count": 13,
   "id": "1a15a313",
   "metadata": {},
   "outputs": [
    {
     "name": "stdout",
     "output_type": "stream",
     "text": [
      "{1: 8, 2: 8, 3: 8, 4: 8, 5: 8}\n"
     ]
    }
   ],
   "source": [
    "print(d1)"
   ]
  },
  {
   "cell_type": "markdown",
   "id": "c5bcabd0",
   "metadata": {},
   "source": [
    "#### Calling get method"
   ]
  },
  {
   "cell_type": "code",
   "execution_count": 14,
   "id": "60c39f85",
   "metadata": {},
   "outputs": [
    {
     "data": {
      "text/plain": [
       "2"
      ]
     },
     "execution_count": 14,
     "metadata": {},
     "output_type": "execute_result"
    }
   ],
   "source": [
    "d.get(1)"
   ]
  },
  {
   "cell_type": "markdown",
   "id": "f470d4a5",
   "metadata": {},
   "source": [
    "#### Calling items method"
   ]
  },
  {
   "cell_type": "code",
   "execution_count": 15,
   "id": "6f8bd73c",
   "metadata": {},
   "outputs": [
    {
     "data": {
      "text/plain": [
       "dict_items([(1, 2), (3, 4), ('a', 'b'), ('f', (1, 2, 3))])"
      ]
     },
     "execution_count": 15,
     "metadata": {},
     "output_type": "execute_result"
    }
   ],
   "source": [
    "d.items()"
   ]
  },
  {
   "cell_type": "markdown",
   "id": "c12989a3",
   "metadata": {},
   "source": [
    "#### Calling keys method"
   ]
  },
  {
   "cell_type": "code",
   "execution_count": 16,
   "id": "ac57513c",
   "metadata": {},
   "outputs": [
    {
     "data": {
      "text/plain": [
       "dict_keys([1, 3, 'a', 'f'])"
      ]
     },
     "execution_count": 16,
     "metadata": {},
     "output_type": "execute_result"
    }
   ],
   "source": [
    "d.keys()"
   ]
  },
  {
   "cell_type": "markdown",
   "id": "9b56c83b",
   "metadata": {},
   "source": [
    "#### Calling pop method"
   ]
  },
  {
   "cell_type": "code",
   "execution_count": 17,
   "id": "3843942d",
   "metadata": {},
   "outputs": [
    {
     "name": "stdout",
     "output_type": "stream",
     "text": [
      "Your dictionary is: {1: 2, 3: 4, 'a': 'b', 'f': (1, 2, 3)}\n"
     ]
    }
   ],
   "source": [
    "print(d)"
   ]
  },
  {
   "cell_type": "code",
   "execution_count": 18,
   "id": "645eeab5",
   "metadata": {},
   "outputs": [
    {
     "data": {
      "text/plain": [
       "'b'"
      ]
     },
     "execution_count": 18,
     "metadata": {},
     "output_type": "execute_result"
    }
   ],
   "source": [
    "d.pop(key='a')"
   ]
  },
  {
   "cell_type": "code",
   "execution_count": 19,
   "id": "ad24e017",
   "metadata": {},
   "outputs": [
    {
     "name": "stdout",
     "output_type": "stream",
     "text": [
      "Your dictionary is: {1: 2, 3: 4, 'f': (1, 2, 3)}\n"
     ]
    }
   ],
   "source": [
    "print(d)"
   ]
  },
  {
   "cell_type": "markdown",
   "id": "316ecd46",
   "metadata": {},
   "source": [
    "#### Calling popitem method"
   ]
  },
  {
   "cell_type": "code",
   "execution_count": 20,
   "id": "6cc2c13c",
   "metadata": {},
   "outputs": [
    {
     "data": {
      "text/plain": [
       "('f', (1, 2, 3))"
      ]
     },
     "execution_count": 20,
     "metadata": {},
     "output_type": "execute_result"
    }
   ],
   "source": [
    "d.popitem()"
   ]
  },
  {
   "cell_type": "code",
   "execution_count": 21,
   "id": "d79d50b0",
   "metadata": {},
   "outputs": [
    {
     "name": "stdout",
     "output_type": "stream",
     "text": [
      "Your dictionary is: {1: 2, 3: 4}\n"
     ]
    }
   ],
   "source": [
    "print(d)"
   ]
  },
  {
   "cell_type": "markdown",
   "id": "0d936c2c",
   "metadata": {},
   "source": [
    "#### Calling values method"
   ]
  },
  {
   "cell_type": "code",
   "execution_count": 22,
   "id": "576e8b1e",
   "metadata": {},
   "outputs": [
    {
     "data": {
      "text/plain": [
       "dict_values([2, 4])"
      ]
     },
     "execution_count": 22,
     "metadata": {},
     "output_type": "execute_result"
    }
   ],
   "source": [
    "d.values()"
   ]
  },
  {
   "cell_type": "markdown",
   "id": "1d9f0eb3",
   "metadata": {},
   "source": [
    "#### calling set default method"
   ]
  },
  {
   "cell_type": "code",
   "execution_count": 23,
   "id": "4e65827d",
   "metadata": {},
   "outputs": [
    {
     "data": {
      "text/plain": [
       "4"
      ]
     },
     "execution_count": 23,
     "metadata": {},
     "output_type": "execute_result"
    }
   ],
   "source": [
    "d.setdefault(3)"
   ]
  },
  {
   "cell_type": "code",
   "execution_count": 24,
   "id": "4912b4fc",
   "metadata": {},
   "outputs": [],
   "source": [
    "d.setdefault(\"xadada\")"
   ]
  },
  {
   "cell_type": "code",
   "execution_count": 25,
   "id": "8ab3a853",
   "metadata": {},
   "outputs": [
    {
     "name": "stdout",
     "output_type": "stream",
     "text": [
      "Your dictionary is: {1: 2, 3: 4, 'xadada': None}\n"
     ]
    }
   ],
   "source": [
    "print(d)"
   ]
  },
  {
   "cell_type": "code",
   "execution_count": null,
   "id": "dbe4760c",
   "metadata": {},
   "outputs": [],
   "source": []
  },
  {
   "cell_type": "markdown",
   "id": "df428c18",
   "metadata": {},
   "source": [
    "# 4. Implementing the set package functions"
   ]
  },
  {
   "cell_type": "code",
   "execution_count": 1,
   "id": "268d1fff",
   "metadata": {},
   "outputs": [],
   "source": [
    "from Set.Set import SetClass"
   ]
  },
  {
   "cell_type": "markdown",
   "id": "863bb0e4",
   "metadata": {},
   "source": [
    "#### Creating the set class object"
   ]
  },
  {
   "cell_type": "code",
   "execution_count": 2,
   "id": "87e1e6d9",
   "metadata": {},
   "outputs": [],
   "source": [
    "s= SetClass((1,2,3,4))"
   ]
  },
  {
   "cell_type": "code",
   "execution_count": 3,
   "id": "cc0d866e",
   "metadata": {},
   "outputs": [
    {
     "name": "stdout",
     "output_type": "stream",
     "text": [
      "Your set is: {1, 2, 3, 4}\n"
     ]
    }
   ],
   "source": [
    "print(s)"
   ]
  },
  {
   "cell_type": "markdown",
   "id": "41b80392",
   "metadata": {},
   "source": [
    "#### Calling the add method"
   ]
  },
  {
   "cell_type": "code",
   "execution_count": 4,
   "id": "c1d1bf54",
   "metadata": {},
   "outputs": [],
   "source": [
    "s.add(5)"
   ]
  },
  {
   "cell_type": "code",
   "execution_count": 5,
   "id": "8c99749a",
   "metadata": {},
   "outputs": [
    {
     "name": "stdout",
     "output_type": "stream",
     "text": [
      "Your set is: {1, 2, 3, 4, 5}\n"
     ]
    }
   ],
   "source": [
    "print(s)"
   ]
  },
  {
   "cell_type": "code",
   "execution_count": 6,
   "id": "c528a67c",
   "metadata": {},
   "outputs": [],
   "source": [
    "s.add(5) # key already present, nothing happens"
   ]
  },
  {
   "cell_type": "code",
   "execution_count": 7,
   "id": "cb13fd6a",
   "metadata": {},
   "outputs": [
    {
     "name": "stdout",
     "output_type": "stream",
     "text": [
      "Your set is: {1, 2, 3, 4, 5}\n"
     ]
    }
   ],
   "source": [
    "print(s) "
   ]
  },
  {
   "cell_type": "markdown",
   "id": "5e1510b9",
   "metadata": {},
   "source": [
    "#### Calling clear function"
   ]
  },
  {
   "cell_type": "code",
   "execution_count": 8,
   "id": "9ff0f4d8",
   "metadata": {},
   "outputs": [],
   "source": [
    "s.clear()"
   ]
  },
  {
   "cell_type": "code",
   "execution_count": 9,
   "id": "f9a0d968",
   "metadata": {},
   "outputs": [
    {
     "name": "stdout",
     "output_type": "stream",
     "text": [
      "Your set is: set()\n"
     ]
    }
   ],
   "source": [
    "print(s)"
   ]
  },
  {
   "cell_type": "markdown",
   "id": "32b41c2a",
   "metadata": {},
   "source": [
    "#### Calling copy function"
   ]
  },
  {
   "cell_type": "code",
   "execution_count": 10,
   "id": "2711ca5c",
   "metadata": {},
   "outputs": [],
   "source": [
    "s=SetClass((1,2,3,4))"
   ]
  },
  {
   "cell_type": "code",
   "execution_count": 11,
   "id": "2ce9041e",
   "metadata": {},
   "outputs": [],
   "source": [
    "s1=s.copy()"
   ]
  },
  {
   "cell_type": "code",
   "execution_count": 12,
   "id": "8124d5a5",
   "metadata": {},
   "outputs": [
    {
     "name": "stdout",
     "output_type": "stream",
     "text": [
      "Your set is: {1, 2, 3, 4}\n"
     ]
    }
   ],
   "source": [
    "print(s)"
   ]
  },
  {
   "cell_type": "code",
   "execution_count": 13,
   "id": "b70affa5",
   "metadata": {},
   "outputs": [
    {
     "name": "stdout",
     "output_type": "stream",
     "text": [
      "Your set is: {1, 2, 3, 4}\n"
     ]
    }
   ],
   "source": [
    "print(s1)"
   ]
  },
  {
   "cell_type": "code",
   "execution_count": 14,
   "id": "0860897d",
   "metadata": {},
   "outputs": [],
   "source": [
    "s.add(5)"
   ]
  },
  {
   "cell_type": "code",
   "execution_count": 15,
   "id": "88a7aa4b",
   "metadata": {},
   "outputs": [
    {
     "name": "stdout",
     "output_type": "stream",
     "text": [
      "Your set is: {1, 2, 3, 4, 5}\n"
     ]
    }
   ],
   "source": [
    "print(s)"
   ]
  },
  {
   "cell_type": "code",
   "execution_count": 16,
   "id": "46d7c657",
   "metadata": {},
   "outputs": [
    {
     "name": "stdout",
     "output_type": "stream",
     "text": [
      "Your set is: {1, 2, 3, 4}\n"
     ]
    }
   ],
   "source": [
    "print(s1)   # clearly deep copy, change in 1 not reflected in other."
   ]
  },
  {
   "cell_type": "code",
   "execution_count": null,
   "id": "b83db670",
   "metadata": {},
   "outputs": [],
   "source": []
  },
  {
   "cell_type": "markdown",
   "id": "2ae6bc57",
   "metadata": {},
   "source": [
    "#### Calling Difference method"
   ]
  },
  {
   "cell_type": "code",
   "execution_count": 17,
   "id": "a827c864",
   "metadata": {},
   "outputs": [
    {
     "name": "stdout",
     "output_type": "stream",
     "text": [
      "Your set is: {1, 2, 3, 4, 5}\n"
     ]
    }
   ],
   "source": [
    "print(s)"
   ]
  },
  {
   "cell_type": "code",
   "execution_count": 18,
   "id": "10d779ec",
   "metadata": {},
   "outputs": [],
   "source": [
    "s1=SetClass({3,4})\n",
    "s2=SetClass({5})"
   ]
  },
  {
   "cell_type": "code",
   "execution_count": 19,
   "id": "84153663",
   "metadata": {},
   "outputs": [
    {
     "name": "stdout",
     "output_type": "stream",
     "text": [
      "Your set is: {1, 2}\n"
     ]
    }
   ],
   "source": [
    "x=s.difference(s1,s2)\n",
    "print(x)"
   ]
  },
  {
   "cell_type": "code",
   "execution_count": null,
   "id": "c0ffc3af",
   "metadata": {},
   "outputs": [],
   "source": []
  },
  {
   "cell_type": "markdown",
   "id": "af42fd3d",
   "metadata": {},
   "source": [
    "#### Calling Difference Update method"
   ]
  },
  {
   "cell_type": "code",
   "execution_count": 20,
   "id": "9f8f42aa",
   "metadata": {},
   "outputs": [
    {
     "name": "stdout",
     "output_type": "stream",
     "text": [
      "Your set is: {1, 2, 3, 4, 5}\n",
      "Your set is: {3, 4}\n",
      "Your set is: {5}\n"
     ]
    }
   ],
   "source": [
    "print(s)\n",
    "print(s1)\n",
    "print(s2)"
   ]
  },
  {
   "cell_type": "code",
   "execution_count": 21,
   "id": "15663f95",
   "metadata": {},
   "outputs": [],
   "source": [
    "s.difference_update(s1,s2)"
   ]
  },
  {
   "cell_type": "code",
   "execution_count": 22,
   "id": "8b33fb69",
   "metadata": {},
   "outputs": [
    {
     "name": "stdout",
     "output_type": "stream",
     "text": [
      "Your set is: {1, 2}\n"
     ]
    }
   ],
   "source": [
    "print(s)"
   ]
  },
  {
   "cell_type": "code",
   "execution_count": null,
   "id": "29e59b4d",
   "metadata": {},
   "outputs": [],
   "source": []
  },
  {
   "cell_type": "markdown",
   "id": "42de9b05",
   "metadata": {},
   "source": [
    "#### Calling discard method"
   ]
  },
  {
   "cell_type": "code",
   "execution_count": 23,
   "id": "916df381",
   "metadata": {},
   "outputs": [
    {
     "name": "stdout",
     "output_type": "stream",
     "text": [
      "Your set is: {1, 2}\n"
     ]
    }
   ],
   "source": [
    "print(s)"
   ]
  },
  {
   "cell_type": "code",
   "execution_count": 24,
   "id": "9b82319b",
   "metadata": {},
   "outputs": [],
   "source": [
    "s.discard(1)"
   ]
  },
  {
   "cell_type": "code",
   "execution_count": 25,
   "id": "158d34d9",
   "metadata": {},
   "outputs": [
    {
     "name": "stdout",
     "output_type": "stream",
     "text": [
      "Your set is: {2}\n"
     ]
    }
   ],
   "source": [
    "print(s)"
   ]
  },
  {
   "cell_type": "code",
   "execution_count": 26,
   "id": "225df6ed",
   "metadata": {},
   "outputs": [],
   "source": [
    "s.discard(1) # element not present, still nothing happens"
   ]
  },
  {
   "cell_type": "code",
   "execution_count": 27,
   "id": "4e27ae94",
   "metadata": {},
   "outputs": [
    {
     "name": "stdout",
     "output_type": "stream",
     "text": [
      "Your set is: {2}\n"
     ]
    }
   ],
   "source": [
    "print(s)"
   ]
  },
  {
   "cell_type": "markdown",
   "id": "d8de2c04",
   "metadata": {},
   "source": [
    "#### Calling intersection method"
   ]
  },
  {
   "cell_type": "code",
   "execution_count": 28,
   "id": "2cc9fb19",
   "metadata": {},
   "outputs": [
    {
     "name": "stdout",
     "output_type": "stream",
     "text": [
      "Your set is: {2}\n"
     ]
    }
   ],
   "source": [
    "print(s)"
   ]
  },
  {
   "cell_type": "code",
   "execution_count": 29,
   "id": "ff7232fc",
   "metadata": {},
   "outputs": [],
   "source": [
    "s1=SetClass({1,2,3,4,5})"
   ]
  },
  {
   "cell_type": "code",
   "execution_count": 30,
   "id": "d328b5fb",
   "metadata": {},
   "outputs": [
    {
     "name": "stdout",
     "output_type": "stream",
     "text": [
      "Your set is: {1, 2, 3, 4, 5}\n"
     ]
    }
   ],
   "source": [
    "print(s1)"
   ]
  },
  {
   "cell_type": "code",
   "execution_count": 31,
   "id": "8854ef06",
   "metadata": {},
   "outputs": [],
   "source": [
    "x=s1.intersection(s)"
   ]
  },
  {
   "cell_type": "code",
   "execution_count": 32,
   "id": "7f10f9cd",
   "metadata": {},
   "outputs": [
    {
     "name": "stdout",
     "output_type": "stream",
     "text": [
      "Your set is: {2}\n"
     ]
    }
   ],
   "source": [
    "print(x)          # Intersection b.w   {1,2,3,4,5} and {2}  is {2}"
   ]
  },
  {
   "cell_type": "code",
   "execution_count": null,
   "id": "b2dfd403",
   "metadata": {},
   "outputs": [],
   "source": []
  },
  {
   "cell_type": "markdown",
   "id": "e8645f8b",
   "metadata": {},
   "source": [
    "#### Calling is Dijoint Method"
   ]
  },
  {
   "cell_type": "code",
   "execution_count": 38,
   "id": "33766b7c",
   "metadata": {},
   "outputs": [
    {
     "name": "stdout",
     "output_type": "stream",
     "text": [
      "Your set is: {2}\n"
     ]
    }
   ],
   "source": [
    "print(s)"
   ]
  },
  {
   "cell_type": "code",
   "execution_count": 39,
   "id": "aecbf92e",
   "metadata": {},
   "outputs": [
    {
     "name": "stdout",
     "output_type": "stream",
     "text": [
      "Your set is: {1, 2, 3, 4, 5}\n"
     ]
    }
   ],
   "source": [
    "print(s1)"
   ]
  },
  {
   "cell_type": "code",
   "execution_count": 41,
   "id": "c6be3b1e",
   "metadata": {},
   "outputs": [
    {
     "data": {
      "text/plain": [
       "False"
      ]
     },
     "execution_count": 41,
     "metadata": {},
     "output_type": "execute_result"
    }
   ],
   "source": [
    "s.isDisjoint(s1)"
   ]
  },
  {
   "cell_type": "markdown",
   "id": "02d5945a",
   "metadata": {},
   "source": [
    "#### Calling Pop method"
   ]
  },
  {
   "cell_type": "code",
   "execution_count": 43,
   "id": "4757be3e",
   "metadata": {},
   "outputs": [
    {
     "name": "stdout",
     "output_type": "stream",
     "text": [
      "Your set is: {1, 2, 3, 4, 5}\n"
     ]
    }
   ],
   "source": [
    "print(s1)"
   ]
  },
  {
   "cell_type": "code",
   "execution_count": 44,
   "id": "89288140",
   "metadata": {},
   "outputs": [],
   "source": [
    "s1.pop() # removes arbitrary element"
   ]
  },
  {
   "cell_type": "code",
   "execution_count": 45,
   "id": "b7907fd8",
   "metadata": {},
   "outputs": [
    {
     "name": "stdout",
     "output_type": "stream",
     "text": [
      "Your set is: {2, 3, 4, 5}\n"
     ]
    }
   ],
   "source": [
    "print(s1)"
   ]
  },
  {
   "cell_type": "markdown",
   "id": "8cd727b5",
   "metadata": {},
   "source": [
    "#### Calling remove method # removes specific method"
   ]
  },
  {
   "cell_type": "code",
   "execution_count": 46,
   "id": "f6f56530",
   "metadata": {},
   "outputs": [
    {
     "name": "stdout",
     "output_type": "stream",
     "text": [
      "Your set is: {2, 3, 4, 5}\n"
     ]
    }
   ],
   "source": [
    "print(s1)"
   ]
  },
  {
   "cell_type": "code",
   "execution_count": 47,
   "id": "71e86ad9",
   "metadata": {},
   "outputs": [],
   "source": [
    "s1.remove(4)"
   ]
  },
  {
   "cell_type": "code",
   "execution_count": 48,
   "id": "7011b960",
   "metadata": {},
   "outputs": [
    {
     "name": "stdout",
     "output_type": "stream",
     "text": [
      "Your set is: {2, 3, 5}\n"
     ]
    }
   ],
   "source": [
    "print(s1)"
   ]
  },
  {
   "cell_type": "code",
   "execution_count": null,
   "id": "a25428af",
   "metadata": {},
   "outputs": [],
   "source": []
  }
 ],
 "metadata": {
  "kernelspec": {
   "display_name": "Python 3",
   "language": "python",
   "name": "python3"
  },
  "language_info": {
   "codemirror_mode": {
    "name": "ipython",
    "version": 3
   },
   "file_extension": ".py",
   "mimetype": "text/x-python",
   "name": "python",
   "nbconvert_exporter": "python",
   "pygments_lexer": "ipython3",
   "version": "3.8.8"
  }
 },
 "nbformat": 4,
 "nbformat_minor": 5
}
