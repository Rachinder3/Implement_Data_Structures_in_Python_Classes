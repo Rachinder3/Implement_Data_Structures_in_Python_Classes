{
 "cells": [
  {
   "cell_type": "markdown",
   "id": "d9548dd6",
   "metadata": {},
   "source": [
    "### Questions"
   ]
  },
  {
   "cell_type": "markdown",
   "id": "ac84dfce",
   "metadata": {},
   "source": [
    "1) Create your own package for the list function. <br>\n",
    "2) Create your own package for all the tuple function. <br>\n",
    "3) your own package for all the dictionary function. <br>\n",
    "4) create your own package for all the set function. <br>\n",
    "\n",
    "Guidelines: <br>\n",
    "1) always use exception handling. <br>\n",
    "2) never use print. <br>\n",
    "3) always use logging while writing the code and log every activity in respective logging file. <br>\n"
   ]
  },
  {
   "cell_type": "markdown",
   "id": "f24b4136",
   "metadata": {},
   "source": [
    "# 1. Implementing the List package functions"
   ]
  },
  {
   "cell_type": "code",
   "execution_count": 1,
   "id": "bd5dffc3",
   "metadata": {},
   "outputs": [],
   "source": [
    "from list.lisfunction import *"
   ]
  },
  {
   "cell_type": "markdown",
   "id": "3f1c76f5",
   "metadata": {},
   "source": [
    "##### Creating the list object"
   ]
  },
  {
   "cell_type": "code",
   "execution_count": 2,
   "id": "0b7e2f16",
   "metadata": {},
   "outputs": [],
   "source": [
    "l=ListClass([1,2,3,4,5])"
   ]
  },
  {
   "cell_type": "code",
   "execution_count": 3,
   "id": "ec497052",
   "metadata": {},
   "outputs": [
    {
     "name": "stdout",
     "output_type": "stream",
     "text": [
      "Your list is: [1, 2, 3, 4, 5]\n"
     ]
    }
   ],
   "source": [
    "print(l)"
   ]
  },
  {
   "cell_type": "markdown",
   "id": "522d3606",
   "metadata": {},
   "source": [
    "#### Calling the append function"
   ]
  },
  {
   "cell_type": "code",
   "execution_count": 4,
   "id": "e5304ecd",
   "metadata": {},
   "outputs": [],
   "source": [
    "l.append([4,5])"
   ]
  },
  {
   "cell_type": "code",
   "execution_count": 5,
   "id": "8e0266c6",
   "metadata": {},
   "outputs": [
    {
     "name": "stdout",
     "output_type": "stream",
     "text": [
      "Your list is: [1, 2, 3, 4, 5, [4, 5]]\n"
     ]
    }
   ],
   "source": [
    "print(l)"
   ]
  },
  {
   "cell_type": "markdown",
   "id": "c98eb368",
   "metadata": {},
   "source": [
    "#### Calling the clear function"
   ]
  },
  {
   "cell_type": "code",
   "execution_count": 6,
   "id": "fa96a727",
   "metadata": {},
   "outputs": [],
   "source": [
    "l.clear()"
   ]
  },
  {
   "cell_type": "code",
   "execution_count": 7,
   "id": "10bd044d",
   "metadata": {},
   "outputs": [
    {
     "name": "stdout",
     "output_type": "stream",
     "text": [
      "Your list is: []\n"
     ]
    }
   ],
   "source": [
    "print(l)"
   ]
  },
  {
   "cell_type": "markdown",
   "id": "3effee10",
   "metadata": {},
   "source": [
    "#### Calling the copy function"
   ]
  },
  {
   "cell_type": "code",
   "execution_count": 8,
   "id": "1a157033",
   "metadata": {},
   "outputs": [],
   "source": [
    "l1=l.copy()"
   ]
  },
  {
   "cell_type": "code",
   "execution_count": 9,
   "id": "964d9103",
   "metadata": {},
   "outputs": [],
   "source": [
    "l1.append(23)"
   ]
  },
  {
   "cell_type": "code",
   "execution_count": 10,
   "id": "1cbcd461",
   "metadata": {},
   "outputs": [
    {
     "name": "stdout",
     "output_type": "stream",
     "text": [
      "Your list is: [23]\n"
     ]
    }
   ],
   "source": [
    "print(l1)"
   ]
  },
  {
   "cell_type": "code",
   "execution_count": 11,
   "id": "21b47385",
   "metadata": {},
   "outputs": [
    {
     "name": "stdout",
     "output_type": "stream",
     "text": [
      "Your list is: []\n"
     ]
    }
   ],
   "source": [
    "print(l)    #  Clearly performing operation on l1 and it is not impacting l"
   ]
  },
  {
   "cell_type": "markdown",
   "id": "91db218f",
   "metadata": {},
   "source": [
    "#### Calling the count function"
   ]
  },
  {
   "cell_type": "code",
   "execution_count": 12,
   "id": "5708b126",
   "metadata": {},
   "outputs": [],
   "source": [
    "l=ListClass([1,2,34])"
   ]
  },
  {
   "cell_type": "code",
   "execution_count": 13,
   "id": "b0745b25",
   "metadata": {},
   "outputs": [
    {
     "data": {
      "text/plain": [
       "0"
      ]
     },
     "execution_count": 13,
     "metadata": {},
     "output_type": "execute_result"
    }
   ],
   "source": [
    "l.count(23)"
   ]
  },
  {
   "cell_type": "code",
   "execution_count": 14,
   "id": "4226374c",
   "metadata": {},
   "outputs": [
    {
     "data": {
      "text/plain": [
       "1"
      ]
     },
     "execution_count": 14,
     "metadata": {},
     "output_type": "execute_result"
    }
   ],
   "source": [
    "l.count(1)"
   ]
  },
  {
   "cell_type": "markdown",
   "id": "74a59833",
   "metadata": {},
   "source": [
    "#### Calling the extend function"
   ]
  },
  {
   "cell_type": "code",
   "execution_count": 15,
   "id": "a1c02a2e",
   "metadata": {},
   "outputs": [],
   "source": [
    "l.extend([1,2,6,7,9])"
   ]
  },
  {
   "cell_type": "code",
   "execution_count": 16,
   "id": "d80fd380",
   "metadata": {},
   "outputs": [
    {
     "name": "stdout",
     "output_type": "stream",
     "text": [
      "Your list is: [1, 2, 34, 1, 2, 6, 7, 9]\n"
     ]
    }
   ],
   "source": [
    "print(l)"
   ]
  },
  {
   "cell_type": "markdown",
   "id": "e5b776c7",
   "metadata": {},
   "source": [
    "#### Calling index function"
   ]
  },
  {
   "cell_type": "code",
   "execution_count": 17,
   "id": "a8e40a25",
   "metadata": {},
   "outputs": [
    {
     "data": {
      "text/plain": [
       "5"
      ]
     },
     "execution_count": 17,
     "metadata": {},
     "output_type": "execute_result"
    }
   ],
   "source": [
    "l.index(6)"
   ]
  },
  {
   "cell_type": "markdown",
   "id": "62cdf84f",
   "metadata": {},
   "source": [
    "#### Calling insert function"
   ]
  },
  {
   "cell_type": "code",
   "execution_count": 18,
   "id": "5399ee33",
   "metadata": {},
   "outputs": [],
   "source": [
    "l.insert(4,\"test\")"
   ]
  },
  {
   "cell_type": "code",
   "execution_count": 19,
   "id": "57ed0ff3",
   "metadata": {},
   "outputs": [
    {
     "name": "stdout",
     "output_type": "stream",
     "text": [
      "Your list is: [1, 2, 34, 1, 'test', 2, 6, 7, 9]\n"
     ]
    }
   ],
   "source": [
    "print(l)"
   ]
  },
  {
   "cell_type": "markdown",
   "id": "4a3f1243",
   "metadata": {},
   "source": [
    "#### Calling pop function"
   ]
  },
  {
   "cell_type": "code",
   "execution_count": 20,
   "id": "b7b10828",
   "metadata": {},
   "outputs": [],
   "source": [
    "l.pop(index=4)"
   ]
  },
  {
   "cell_type": "code",
   "execution_count": 21,
   "id": "1f5023ec",
   "metadata": {},
   "outputs": [
    {
     "name": "stdout",
     "output_type": "stream",
     "text": [
      "Your list is: [1, 2, 34, 1, 2, 6, 7, 9]\n"
     ]
    }
   ],
   "source": [
    "print(l)"
   ]
  },
  {
   "cell_type": "markdown",
   "id": "319f92b6",
   "metadata": {},
   "source": [
    "#### Calling remove function"
   ]
  },
  {
   "cell_type": "code",
   "execution_count": 22,
   "id": "591ecdd3",
   "metadata": {},
   "outputs": [],
   "source": [
    "l.remove(34)"
   ]
  },
  {
   "cell_type": "code",
   "execution_count": 23,
   "id": "19b62dd4",
   "metadata": {},
   "outputs": [
    {
     "name": "stdout",
     "output_type": "stream",
     "text": [
      "Your list is: [1, 2, 1, 2, 6, 7, 9]\n"
     ]
    }
   ],
   "source": [
    "print(l)"
   ]
  },
  {
   "cell_type": "markdown",
   "id": "9d1967af",
   "metadata": {},
   "source": [
    "#### Calling reverse function"
   ]
  },
  {
   "cell_type": "code",
   "execution_count": 24,
   "id": "8bdb2169",
   "metadata": {},
   "outputs": [],
   "source": [
    "l.reverse()"
   ]
  },
  {
   "cell_type": "code",
   "execution_count": 25,
   "id": "419a6862",
   "metadata": {},
   "outputs": [
    {
     "name": "stdout",
     "output_type": "stream",
     "text": [
      "Your list is: [9, 7, 6, 2, 1, 2, 1]\n"
     ]
    }
   ],
   "source": [
    "print(l)"
   ]
  },
  {
   "cell_type": "markdown",
   "id": "c08c3e3b",
   "metadata": {},
   "source": [
    "#### Calling sort function"
   ]
  },
  {
   "cell_type": "code",
   "execution_count": 26,
   "id": "37fd564e",
   "metadata": {},
   "outputs": [],
   "source": [
    "l.sort()    # sorting in ascending order"
   ]
  },
  {
   "cell_type": "code",
   "execution_count": 27,
   "id": "b623d139",
   "metadata": {},
   "outputs": [
    {
     "name": "stdout",
     "output_type": "stream",
     "text": [
      "Your list is: [1, 1, 2, 2, 6, 7, 9]\n"
     ]
    }
   ],
   "source": [
    "print(l)"
   ]
  },
  {
   "cell_type": "code",
   "execution_count": 28,
   "id": "98b3289a",
   "metadata": {},
   "outputs": [],
   "source": [
    "l.sort(reverse=True)  # sorting in descending order"
   ]
  },
  {
   "cell_type": "code",
   "execution_count": 29,
   "id": "72d47af0",
   "metadata": {},
   "outputs": [
    {
     "name": "stdout",
     "output_type": "stream",
     "text": [
      "Your list is: [9, 7, 6, 2, 2, 1, 1]\n"
     ]
    }
   ],
   "source": [
    "print(l)"
   ]
  },
  {
   "cell_type": "code",
   "execution_count": null,
   "id": "790dad55",
   "metadata": {},
   "outputs": [],
   "source": []
  },
  {
   "cell_type": "markdown",
   "id": "c6a60077",
   "metadata": {},
   "source": [
    "#### + operator"
   ]
  },
  {
   "cell_type": "code",
   "execution_count": 30,
   "id": "f1be9834",
   "metadata": {},
   "outputs": [
    {
     "name": "stdout",
     "output_type": "stream",
     "text": [
      "Your list is: [9, 7, 6, 2, 2, 1, 1]\n"
     ]
    }
   ],
   "source": [
    "print(l)"
   ]
  },
  {
   "cell_type": "code",
   "execution_count": 31,
   "id": "cd9f1bbd",
   "metadata": {},
   "outputs": [],
   "source": [
    "l1=ListClass([34,56,78])"
   ]
  },
  {
   "cell_type": "code",
   "execution_count": 32,
   "id": "97e17d90",
   "metadata": {},
   "outputs": [
    {
     "name": "stdout",
     "output_type": "stream",
     "text": [
      "Your list is: [34, 56, 78]\n"
     ]
    }
   ],
   "source": [
    "print(l1)"
   ]
  },
  {
   "cell_type": "code",
   "execution_count": 33,
   "id": "9b123e14",
   "metadata": {},
   "outputs": [],
   "source": [
    "concat_list=l+l1"
   ]
  },
  {
   "cell_type": "code",
   "execution_count": 34,
   "id": "81b5f6e7",
   "metadata": {},
   "outputs": [
    {
     "name": "stdout",
     "output_type": "stream",
     "text": [
      "Your list is: [9, 7, 6, 2, 2, 1, 1, 34, 56, 78]\n"
     ]
    }
   ],
   "source": [
    "print(concat_list)"
   ]
  },
  {
   "cell_type": "code",
   "execution_count": null,
   "id": "6463157e",
   "metadata": {},
   "outputs": [],
   "source": []
  },
  {
   "cell_type": "markdown",
   "id": "8575e2b7",
   "metadata": {},
   "source": [
    "#### * operator"
   ]
  },
  {
   "cell_type": "code",
   "execution_count": 35,
   "id": "640b5847",
   "metadata": {},
   "outputs": [
    {
     "name": "stdout",
     "output_type": "stream",
     "text": [
      "Your list is: [9, 7, 6, 2, 2, 1, 1]\n"
     ]
    }
   ],
   "source": [
    "print(l)"
   ]
  },
  {
   "cell_type": "code",
   "execution_count": 36,
   "id": "4dcb6635",
   "metadata": {},
   "outputs": [],
   "source": [
    "multiplied_list=l * 4"
   ]
  },
  {
   "cell_type": "code",
   "execution_count": 37,
   "id": "d2c850d7",
   "metadata": {},
   "outputs": [
    {
     "name": "stdout",
     "output_type": "stream",
     "text": [
      "Your list is: [9, 7, 6, 2, 2, 1, 1, 9, 7, 6, 2, 2, 1, 1, 9, 7, 6, 2, 2, 1, 1, 9, 7, 6, 2, 2, 1, 1]\n"
     ]
    }
   ],
   "source": [
    "print(multiplied_list)"
   ]
  },
  {
   "cell_type": "code",
   "execution_count": null,
   "id": "9f93ef53",
   "metadata": {},
   "outputs": [],
   "source": []
  },
  {
   "cell_type": "code",
   "execution_count": null,
   "id": "b5dc28a2",
   "metadata": {},
   "outputs": [],
   "source": []
  },
  {
   "cell_type": "markdown",
   "id": "be67adfa",
   "metadata": {},
   "source": [
    "# 2. Implementing the Tuple package functions"
   ]
  },
  {
   "cell_type": "code",
   "execution_count": 1,
   "id": "d7c4dbb3",
   "metadata": {},
   "outputs": [],
   "source": [
    "from Tuple.TupleFunctions import TupleClass"
   ]
  },
  {
   "cell_type": "markdown",
   "id": "fc137199",
   "metadata": {},
   "source": [
    "### Creating the Tuple object"
   ]
  },
  {
   "cell_type": "code",
   "execution_count": 2,
   "id": "601b4a07",
   "metadata": {},
   "outputs": [],
   "source": [
    "t = TupleClass((1,2,3,4,5))"
   ]
  },
  {
   "cell_type": "code",
   "execution_count": 3,
   "id": "d088a601",
   "metadata": {},
   "outputs": [
    {
     "name": "stdout",
     "output_type": "stream",
     "text": [
      "Your tuple is: (1, 2, 3, 4, 5)\n"
     ]
    }
   ],
   "source": [
    "print(t)"
   ]
  },
  {
   "cell_type": "markdown",
   "id": "45014db1",
   "metadata": {},
   "source": [
    "#### Calling count function"
   ]
  },
  {
   "cell_type": "code",
   "execution_count": 4,
   "id": "0d6a5d96",
   "metadata": {},
   "outputs": [
    {
     "data": {
      "text/plain": [
       "1"
      ]
     },
     "execution_count": 4,
     "metadata": {},
     "output_type": "execute_result"
    }
   ],
   "source": [
    "t.count(4)"
   ]
  },
  {
   "cell_type": "markdown",
   "id": "20ed5ee9",
   "metadata": {},
   "source": [
    "#### Calling index function"
   ]
  },
  {
   "cell_type": "code",
   "execution_count": 5,
   "id": "7fe2114e",
   "metadata": {},
   "outputs": [
    {
     "data": {
      "text/plain": [
       "3"
      ]
     },
     "execution_count": 5,
     "metadata": {},
     "output_type": "execute_result"
    }
   ],
   "source": [
    "t.index(4)"
   ]
  },
  {
   "cell_type": "markdown",
   "id": "35a188c8",
   "metadata": {},
   "source": [
    "#### Using + operator"
   ]
  },
  {
   "cell_type": "code",
   "execution_count": 6,
   "id": "eb2cfd16",
   "metadata": {},
   "outputs": [],
   "source": [
    "t1 = t + TupleClass((6,5,3))"
   ]
  },
  {
   "cell_type": "code",
   "execution_count": 7,
   "id": "3727e11e",
   "metadata": {},
   "outputs": [
    {
     "name": "stdout",
     "output_type": "stream",
     "text": [
      "Your tuple is: (1, 2, 3, 4, 5, 6, 5, 3)\n"
     ]
    }
   ],
   "source": [
    "print(t1)"
   ]
  },
  {
   "cell_type": "markdown",
   "id": "f6fbe9ad",
   "metadata": {},
   "source": [
    "#### Using * operator"
   ]
  },
  {
   "cell_type": "code",
   "execution_count": 8,
   "id": "c8393b90",
   "metadata": {},
   "outputs": [],
   "source": [
    "t1=t*4"
   ]
  },
  {
   "cell_type": "code",
   "execution_count": 9,
   "id": "038a01a6",
   "metadata": {},
   "outputs": [
    {
     "name": "stdout",
     "output_type": "stream",
     "text": [
      "Your tuple is: (1, 2, 3, 4, 5, 1, 2, 3, 4, 5, 1, 2, 3, 4, 5, 1, 2, 3, 4, 5)\n"
     ]
    }
   ],
   "source": [
    "print(t1)"
   ]
  },
  {
   "cell_type": "code",
   "execution_count": null,
   "id": "97b6f80b",
   "metadata": {},
   "outputs": [],
   "source": []
  },
  {
   "cell_type": "markdown",
   "id": "16fad6f6",
   "metadata": {},
   "source": [
    "# 3. Implementing the dictionary package functions"
   ]
  },
  {
   "cell_type": "code",
   "execution_count": 1,
   "id": "d35e6e1f",
   "metadata": {},
   "outputs": [],
   "source": [
    "from Dictionary.DictionaryFunctions import DictionaryClass"
   ]
  },
  {
   "cell_type": "markdown",
   "id": "9ad00003",
   "metadata": {},
   "source": [
    "#### Creating dictionary object"
   ]
  },
  {
   "cell_type": "code",
   "execution_count": 2,
   "id": "338e7442",
   "metadata": {},
   "outputs": [],
   "source": [
    "d=DictionaryClass({1:2,3:4,\"x\":\"y\",\"a\":[1,2,3,4]})"
   ]
  },
  {
   "cell_type": "code",
   "execution_count": 3,
   "id": "81fde428",
   "metadata": {},
   "outputs": [
    {
     "name": "stdout",
     "output_type": "stream",
     "text": [
      "Your dictionary is: {1: 2, 3: 4, 'x': 'y', 'a': [1, 2, 3, 4]}\n"
     ]
    }
   ],
   "source": [
    "print(d)"
   ]
  },
  {
   "cell_type": "markdown",
   "id": "e692d265",
   "metadata": {},
   "source": [
    "#### Calling clear function"
   ]
  },
  {
   "cell_type": "code",
   "execution_count": 4,
   "id": "8eac97c5",
   "metadata": {},
   "outputs": [],
   "source": [
    "d.clear()"
   ]
  },
  {
   "cell_type": "code",
   "execution_count": 5,
   "id": "cb763e9e",
   "metadata": {},
   "outputs": [
    {
     "name": "stdout",
     "output_type": "stream",
     "text": [
      "Your dictionary is: {}\n"
     ]
    }
   ],
   "source": [
    "print(d)"
   ]
  },
  {
   "cell_type": "markdown",
   "id": "3bf06b9e",
   "metadata": {},
   "source": [
    "#### Calling copy function"
   ]
  },
  {
   "cell_type": "code",
   "execution_count": 6,
   "id": "4a3dd623",
   "metadata": {},
   "outputs": [],
   "source": [
    "d=DictionaryClass({1:2,3:4,\"a\":\"b\",\"f\":(1,2,3)})"
   ]
  },
  {
   "cell_type": "code",
   "execution_count": 7,
   "id": "c3328cbe",
   "metadata": {},
   "outputs": [],
   "source": [
    "d1=d.copy()"
   ]
  },
  {
   "cell_type": "code",
   "execution_count": 8,
   "id": "91731710",
   "metadata": {},
   "outputs": [
    {
     "name": "stdout",
     "output_type": "stream",
     "text": [
      "Your dictionary is: {1: 2, 3: 4, 'a': 'b', 'f': (1, 2, 3)}\n"
     ]
    }
   ],
   "source": [
    "print(d1)"
   ]
  },
  {
   "cell_type": "code",
   "execution_count": 9,
   "id": "34969535",
   "metadata": {},
   "outputs": [],
   "source": [
    "d1.clear()"
   ]
  },
  {
   "cell_type": "code",
   "execution_count": 10,
   "id": "608baeb2",
   "metadata": {},
   "outputs": [
    {
     "name": "stdout",
     "output_type": "stream",
     "text": [
      "Your dictionary is: {}\n"
     ]
    }
   ],
   "source": [
    "print(d1)"
   ]
  },
  {
   "cell_type": "code",
   "execution_count": 11,
   "id": "1e8c9258",
   "metadata": {},
   "outputs": [
    {
     "name": "stdout",
     "output_type": "stream",
     "text": [
      "Your dictionary is: {1: 2, 3: 4, 'a': 'b', 'f': (1, 2, 3)}\n"
     ]
    }
   ],
   "source": [
    "print(d)  # change in d1 not impacting d"
   ]
  },
  {
   "cell_type": "markdown",
   "id": "a5d8a6b1",
   "metadata": {},
   "source": [
    "#### Calling from keys method "
   ]
  },
  {
   "cell_type": "code",
   "execution_count": 12,
   "id": "1920957c",
   "metadata": {},
   "outputs": [],
   "source": [
    "d1=d.fromkeys([1,2,3,4,5],value=8)"
   ]
  },
  {
   "cell_type": "code",
   "execution_count": 13,
   "id": "75c8073e",
   "metadata": {},
   "outputs": [
    {
     "name": "stdout",
     "output_type": "stream",
     "text": [
      "{1: 8, 2: 8, 3: 8, 4: 8, 5: 8}\n"
     ]
    }
   ],
   "source": [
    "print(d1)"
   ]
  },
  {
   "cell_type": "markdown",
   "id": "e5d2e13a",
   "metadata": {},
   "source": [
    "#### Calling get method"
   ]
  },
  {
   "cell_type": "code",
   "execution_count": 14,
   "id": "9ef15ff4",
   "metadata": {},
   "outputs": [
    {
     "data": {
      "text/plain": [
       "2"
      ]
     },
     "execution_count": 14,
     "metadata": {},
     "output_type": "execute_result"
    }
   ],
   "source": [
    "d.get(1)"
   ]
  },
  {
   "cell_type": "markdown",
   "id": "f6ee7b85",
   "metadata": {},
   "source": [
    "#### Calling items method"
   ]
  },
  {
   "cell_type": "code",
   "execution_count": 15,
   "id": "ed48cecf",
   "metadata": {},
   "outputs": [
    {
     "data": {
      "text/plain": [
       "dict_items([(1, 2), (3, 4), ('a', 'b'), ('f', (1, 2, 3))])"
      ]
     },
     "execution_count": 15,
     "metadata": {},
     "output_type": "execute_result"
    }
   ],
   "source": [
    "d.items()"
   ]
  },
  {
   "cell_type": "markdown",
   "id": "c848053a",
   "metadata": {},
   "source": [
    "#### Calling keys method"
   ]
  },
  {
   "cell_type": "code",
   "execution_count": 16,
   "id": "7719e6de",
   "metadata": {},
   "outputs": [
    {
     "data": {
      "text/plain": [
       "dict_keys([1, 3, 'a', 'f'])"
      ]
     },
     "execution_count": 16,
     "metadata": {},
     "output_type": "execute_result"
    }
   ],
   "source": [
    "d.keys()"
   ]
  },
  {
   "cell_type": "markdown",
   "id": "7c6c3149",
   "metadata": {},
   "source": [
    "#### Calling pop method"
   ]
  },
  {
   "cell_type": "code",
   "execution_count": 17,
   "id": "aeca7490",
   "metadata": {},
   "outputs": [
    {
     "name": "stdout",
     "output_type": "stream",
     "text": [
      "Your dictionary is: {1: 2, 3: 4, 'a': 'b', 'f': (1, 2, 3)}\n"
     ]
    }
   ],
   "source": [
    "print(d)"
   ]
  },
  {
   "cell_type": "code",
   "execution_count": 18,
   "id": "4f38e186",
   "metadata": {},
   "outputs": [
    {
     "data": {
      "text/plain": [
       "'b'"
      ]
     },
     "execution_count": 18,
     "metadata": {},
     "output_type": "execute_result"
    }
   ],
   "source": [
    "d.pop(key='a')"
   ]
  },
  {
   "cell_type": "code",
   "execution_count": 19,
   "id": "f4fa31e3",
   "metadata": {},
   "outputs": [
    {
     "name": "stdout",
     "output_type": "stream",
     "text": [
      "Your dictionary is: {1: 2, 3: 4, 'f': (1, 2, 3)}\n"
     ]
    }
   ],
   "source": [
    "print(d)"
   ]
  },
  {
   "cell_type": "markdown",
   "id": "68ce8e5d",
   "metadata": {},
   "source": [
    "#### Calling popitem method"
   ]
  },
  {
   "cell_type": "code",
   "execution_count": 20,
   "id": "3687f999",
   "metadata": {},
   "outputs": [
    {
     "data": {
      "text/plain": [
       "('f', (1, 2, 3))"
      ]
     },
     "execution_count": 20,
     "metadata": {},
     "output_type": "execute_result"
    }
   ],
   "source": [
    "d.popitem()"
   ]
  },
  {
   "cell_type": "code",
   "execution_count": 21,
   "id": "110fa163",
   "metadata": {},
   "outputs": [
    {
     "name": "stdout",
     "output_type": "stream",
     "text": [
      "Your dictionary is: {1: 2, 3: 4}\n"
     ]
    }
   ],
   "source": [
    "print(d)"
   ]
  },
  {
   "cell_type": "markdown",
   "id": "610398b4",
   "metadata": {},
   "source": [
    "#### Calling values method"
   ]
  },
  {
   "cell_type": "code",
   "execution_count": 22,
   "id": "3433b712",
   "metadata": {},
   "outputs": [
    {
     "data": {
      "text/plain": [
       "dict_values([2, 4])"
      ]
     },
     "execution_count": 22,
     "metadata": {},
     "output_type": "execute_result"
    }
   ],
   "source": [
    "d.values()"
   ]
  },
  {
   "cell_type": "markdown",
   "id": "af1b5a63",
   "metadata": {},
   "source": [
    "#### calling set default method"
   ]
  },
  {
   "cell_type": "code",
   "execution_count": 23,
   "id": "197ea2bd",
   "metadata": {},
   "outputs": [
    {
     "data": {
      "text/plain": [
       "4"
      ]
     },
     "execution_count": 23,
     "metadata": {},
     "output_type": "execute_result"
    }
   ],
   "source": [
    "d.setdefault(3)"
   ]
  },
  {
   "cell_type": "code",
   "execution_count": 24,
   "id": "91064c04",
   "metadata": {},
   "outputs": [],
   "source": [
    "d.setdefault(\"xadada\")"
   ]
  },
  {
   "cell_type": "code",
   "execution_count": 25,
   "id": "d5a8a8ff",
   "metadata": {},
   "outputs": [
    {
     "name": "stdout",
     "output_type": "stream",
     "text": [
      "Your dictionary is: {1: 2, 3: 4, 'xadada': None}\n"
     ]
    }
   ],
   "source": [
    "print(d)"
   ]
  },
  {
   "cell_type": "code",
   "execution_count": null,
   "id": "8867244f",
   "metadata": {},
   "outputs": [],
   "source": []
  },
  {
   "cell_type": "markdown",
   "id": "7ed233ed",
   "metadata": {},
   "source": [
    "# 4. Implementing the set package functions"
   ]
  },
  {
   "cell_type": "code",
   "execution_count": 1,
   "id": "b8c90b4c",
   "metadata": {},
   "outputs": [],
   "source": [
    "from Set.Set import SetClass"
   ]
  },
  {
   "cell_type": "markdown",
   "id": "a8392691",
   "metadata": {},
   "source": [
    "#### Creating the set class object"
   ]
  },
  {
   "cell_type": "code",
   "execution_count": 2,
   "id": "8e49399a",
   "metadata": {},
   "outputs": [],
   "source": [
    "s= SetClass((1,2,3,4))"
   ]
  },
  {
   "cell_type": "code",
   "execution_count": 3,
   "id": "008c937f",
   "metadata": {},
   "outputs": [
    {
     "name": "stdout",
     "output_type": "stream",
     "text": [
      "Your set is: {1, 2, 3, 4}\n"
     ]
    }
   ],
   "source": [
    "print(s)"
   ]
  },
  {
   "cell_type": "markdown",
   "id": "401c84fe",
   "metadata": {},
   "source": [
    "#### Calling the add method"
   ]
  },
  {
   "cell_type": "code",
   "execution_count": 4,
   "id": "f21a7b6b",
   "metadata": {},
   "outputs": [],
   "source": [
    "s.add(5)"
   ]
  },
  {
   "cell_type": "code",
   "execution_count": 5,
   "id": "5a81aec5",
   "metadata": {},
   "outputs": [
    {
     "name": "stdout",
     "output_type": "stream",
     "text": [
      "Your set is: {1, 2, 3, 4, 5}\n"
     ]
    }
   ],
   "source": [
    "print(s)"
   ]
  },
  {
   "cell_type": "code",
   "execution_count": 6,
   "id": "b47f08c8",
   "metadata": {},
   "outputs": [],
   "source": [
    "s.add(5) # key already present, nothing happens"
   ]
  },
  {
   "cell_type": "code",
   "execution_count": 7,
   "id": "54782207",
   "metadata": {},
   "outputs": [
    {
     "name": "stdout",
     "output_type": "stream",
     "text": [
      "Your set is: {1, 2, 3, 4, 5}\n"
     ]
    }
   ],
   "source": [
    "print(s) "
   ]
  },
  {
   "cell_type": "markdown",
   "id": "b84092be",
   "metadata": {},
   "source": [
    "#### Calling clear function"
   ]
  },
  {
   "cell_type": "code",
   "execution_count": 8,
   "id": "7ce5f7ba",
   "metadata": {},
   "outputs": [],
   "source": [
    "s.clear()"
   ]
  },
  {
   "cell_type": "code",
   "execution_count": 9,
   "id": "93a7eed6",
   "metadata": {},
   "outputs": [
    {
     "name": "stdout",
     "output_type": "stream",
     "text": [
      "Your set is: set()\n"
     ]
    }
   ],
   "source": [
    "print(s)"
   ]
  },
  {
   "cell_type": "markdown",
   "id": "e8598cf8",
   "metadata": {},
   "source": [
    "#### Calling copy function"
   ]
  },
  {
   "cell_type": "code",
   "execution_count": 10,
   "id": "f099fda5",
   "metadata": {},
   "outputs": [],
   "source": [
    "s=SetClass((1,2,3,4))"
   ]
  },
  {
   "cell_type": "code",
   "execution_count": 11,
   "id": "310f011d",
   "metadata": {},
   "outputs": [],
   "source": [
    "s1=s.copy()"
   ]
  },
  {
   "cell_type": "code",
   "execution_count": 12,
   "id": "440625b5",
   "metadata": {},
   "outputs": [
    {
     "name": "stdout",
     "output_type": "stream",
     "text": [
      "Your set is: {1, 2, 3, 4}\n"
     ]
    }
   ],
   "source": [
    "print(s)"
   ]
  },
  {
   "cell_type": "code",
   "execution_count": 13,
   "id": "33f21c4c",
   "metadata": {},
   "outputs": [
    {
     "name": "stdout",
     "output_type": "stream",
     "text": [
      "Your set is: {1, 2, 3, 4}\n"
     ]
    }
   ],
   "source": [
    "print(s1)"
   ]
  },
  {
   "cell_type": "code",
   "execution_count": 14,
   "id": "d018e927",
   "metadata": {},
   "outputs": [],
   "source": [
    "s.add(5)"
   ]
  },
  {
   "cell_type": "code",
   "execution_count": 15,
   "id": "5f8c6ded",
   "metadata": {},
   "outputs": [
    {
     "name": "stdout",
     "output_type": "stream",
     "text": [
      "Your set is: {1, 2, 3, 4, 5}\n"
     ]
    }
   ],
   "source": [
    "print(s)"
   ]
  },
  {
   "cell_type": "code",
   "execution_count": 16,
   "id": "8162cf08",
   "metadata": {},
   "outputs": [
    {
     "name": "stdout",
     "output_type": "stream",
     "text": [
      "Your set is: {1, 2, 3, 4}\n"
     ]
    }
   ],
   "source": [
    "print(s1)   # clearly deep copy, change in 1 not reflected in other."
   ]
  },
  {
   "cell_type": "code",
   "execution_count": null,
   "id": "9e6808e9",
   "metadata": {},
   "outputs": [],
   "source": []
  },
  {
   "cell_type": "markdown",
   "id": "fd6ffd67",
   "metadata": {},
   "source": [
    "#### Calling Difference method"
   ]
  },
  {
   "cell_type": "code",
   "execution_count": 17,
   "id": "1ec3d207",
   "metadata": {},
   "outputs": [
    {
     "name": "stdout",
     "output_type": "stream",
     "text": [
      "Your set is: {1, 2, 3, 4, 5}\n"
     ]
    }
   ],
   "source": [
    "print(s)"
   ]
  },
  {
   "cell_type": "code",
   "execution_count": 18,
   "id": "f29ee41b",
   "metadata": {},
   "outputs": [],
   "source": [
    "s1=SetClass({3,4})\n",
    "s2=SetClass({5})"
   ]
  },
  {
   "cell_type": "code",
   "execution_count": 19,
   "id": "b695fa3e",
   "metadata": {},
   "outputs": [
    {
     "name": "stdout",
     "output_type": "stream",
     "text": [
      "Your set is: {1, 2}\n"
     ]
    }
   ],
   "source": [
    "x=s.difference(s1,s2)\n",
    "print(x)"
   ]
  },
  {
   "cell_type": "code",
   "execution_count": null,
   "id": "7da6ed00",
   "metadata": {},
   "outputs": [],
   "source": []
  },
  {
   "cell_type": "markdown",
   "id": "539aa53f",
   "metadata": {},
   "source": [
    "#### Calling Difference Update method"
   ]
  },
  {
   "cell_type": "code",
   "execution_count": 20,
   "id": "0b3112f3",
   "metadata": {},
   "outputs": [
    {
     "name": "stdout",
     "output_type": "stream",
     "text": [
      "Your set is: {1, 2, 3, 4, 5}\n",
      "Your set is: {3, 4}\n",
      "Your set is: {5}\n"
     ]
    }
   ],
   "source": [
    "print(s)\n",
    "print(s1)\n",
    "print(s2)"
   ]
  },
  {
   "cell_type": "code",
   "execution_count": 21,
   "id": "aed6d1fc",
   "metadata": {},
   "outputs": [],
   "source": [
    "s.difference_update(s1,s2)"
   ]
  },
  {
   "cell_type": "code",
   "execution_count": 22,
   "id": "0bf41b3a",
   "metadata": {},
   "outputs": [
    {
     "name": "stdout",
     "output_type": "stream",
     "text": [
      "Your set is: {1, 2}\n"
     ]
    }
   ],
   "source": [
    "print(s)"
   ]
  },
  {
   "cell_type": "code",
   "execution_count": null,
   "id": "6c36200f",
   "metadata": {},
   "outputs": [],
   "source": []
  },
  {
   "cell_type": "markdown",
   "id": "e4e19d0a",
   "metadata": {},
   "source": [
    "#### Calling discard method"
   ]
  },
  {
   "cell_type": "code",
   "execution_count": 23,
   "id": "d98f34cf",
   "metadata": {},
   "outputs": [
    {
     "name": "stdout",
     "output_type": "stream",
     "text": [
      "Your set is: {1, 2}\n"
     ]
    }
   ],
   "source": [
    "print(s)"
   ]
  },
  {
   "cell_type": "code",
   "execution_count": 24,
   "id": "3914e173",
   "metadata": {},
   "outputs": [],
   "source": [
    "s.discard(1)"
   ]
  },
  {
   "cell_type": "code",
   "execution_count": 25,
   "id": "69d348d0",
   "metadata": {},
   "outputs": [
    {
     "name": "stdout",
     "output_type": "stream",
     "text": [
      "Your set is: {2}\n"
     ]
    }
   ],
   "source": [
    "print(s)"
   ]
  },
  {
   "cell_type": "code",
   "execution_count": 26,
   "id": "50569ed7",
   "metadata": {},
   "outputs": [],
   "source": [
    "s.discard(1) # element not present, still nothing happens"
   ]
  },
  {
   "cell_type": "code",
   "execution_count": 27,
   "id": "d37ce836",
   "metadata": {},
   "outputs": [
    {
     "name": "stdout",
     "output_type": "stream",
     "text": [
      "Your set is: {2}\n"
     ]
    }
   ],
   "source": [
    "print(s)"
   ]
  },
  {
   "cell_type": "markdown",
   "id": "3919ec81",
   "metadata": {},
   "source": [
    "#### Calling intersection method"
   ]
  },
  {
   "cell_type": "code",
   "execution_count": 28,
   "id": "730d1348",
   "metadata": {},
   "outputs": [
    {
     "name": "stdout",
     "output_type": "stream",
     "text": [
      "Your set is: {2}\n"
     ]
    }
   ],
   "source": [
    "print(s)"
   ]
  },
  {
   "cell_type": "code",
   "execution_count": 29,
   "id": "444aa500",
   "metadata": {},
   "outputs": [],
   "source": [
    "s1=SetClass({1,2,3,4,5})"
   ]
  },
  {
   "cell_type": "code",
   "execution_count": 30,
   "id": "c3dc7339",
   "metadata": {},
   "outputs": [
    {
     "name": "stdout",
     "output_type": "stream",
     "text": [
      "Your set is: {1, 2, 3, 4, 5}\n"
     ]
    }
   ],
   "source": [
    "print(s1)"
   ]
  },
  {
   "cell_type": "code",
   "execution_count": 31,
   "id": "40af4a99",
   "metadata": {},
   "outputs": [],
   "source": [
    "x=s1.intersection(s)"
   ]
  },
  {
   "cell_type": "code",
   "execution_count": 32,
   "id": "60fdaf8d",
   "metadata": {},
   "outputs": [
    {
     "name": "stdout",
     "output_type": "stream",
     "text": [
      "Your set is: {2}\n"
     ]
    }
   ],
   "source": [
    "print(x)          # Intersection b.w   {1,2,3,4,5} and {2}  is {2}"
   ]
  },
  {
   "cell_type": "code",
   "execution_count": null,
   "id": "7d4275d5",
   "metadata": {},
   "outputs": [],
   "source": []
  },
  {
   "cell_type": "markdown",
   "id": "aeac13bc",
   "metadata": {},
   "source": [
    "#### Calling is Dijoint Method"
   ]
  },
  {
   "cell_type": "code",
   "execution_count": 38,
   "id": "49a02217",
   "metadata": {},
   "outputs": [
    {
     "name": "stdout",
     "output_type": "stream",
     "text": [
      "Your set is: {2}\n"
     ]
    }
   ],
   "source": [
    "print(s)"
   ]
  },
  {
   "cell_type": "code",
   "execution_count": 39,
   "id": "2be1a1f3",
   "metadata": {},
   "outputs": [
    {
     "name": "stdout",
     "output_type": "stream",
     "text": [
      "Your set is: {1, 2, 3, 4, 5}\n"
     ]
    }
   ],
   "source": [
    "print(s1)"
   ]
  },
  {
   "cell_type": "code",
   "execution_count": 41,
   "id": "f31a86b4",
   "metadata": {},
   "outputs": [
    {
     "data": {
      "text/plain": [
       "False"
      ]
     },
     "execution_count": 41,
     "metadata": {},
     "output_type": "execute_result"
    }
   ],
   "source": [
    "s.isDisjoint(s1)"
   ]
  },
  {
   "cell_type": "markdown",
   "id": "0a06e998",
   "metadata": {},
   "source": [
    "#### Calling Pop method"
   ]
  },
  {
   "cell_type": "code",
   "execution_count": 43,
   "id": "b38c8fa9",
   "metadata": {},
   "outputs": [
    {
     "name": "stdout",
     "output_type": "stream",
     "text": [
      "Your set is: {1, 2, 3, 4, 5}\n"
     ]
    }
   ],
   "source": [
    "print(s1)"
   ]
  },
  {
   "cell_type": "code",
   "execution_count": 44,
   "id": "da8e8826",
   "metadata": {},
   "outputs": [],
   "source": [
    "s1.pop() # removes arbitrary element"
   ]
  },
  {
   "cell_type": "code",
   "execution_count": 45,
   "id": "1da223cd",
   "metadata": {},
   "outputs": [
    {
     "name": "stdout",
     "output_type": "stream",
     "text": [
      "Your set is: {2, 3, 4, 5}\n"
     ]
    }
   ],
   "source": [
    "print(s1)"
   ]
  },
  {
   "cell_type": "markdown",
   "id": "1d9cc549",
   "metadata": {},
   "source": [
    "#### Calling remove method # removes specific method"
   ]
  },
  {
   "cell_type": "code",
   "execution_count": 46,
   "id": "9c819cc5",
   "metadata": {},
   "outputs": [
    {
     "name": "stdout",
     "output_type": "stream",
     "text": [
      "Your set is: {2, 3, 4, 5}\n"
     ]
    }
   ],
   "source": [
    "print(s1)"
   ]
  },
  {
   "cell_type": "code",
   "execution_count": 47,
   "id": "b9a2c2e1",
   "metadata": {},
   "outputs": [],
   "source": [
    "s1.remove(4)"
   ]
  },
  {
   "cell_type": "code",
   "execution_count": 48,
   "id": "0a938ff2",
   "metadata": {},
   "outputs": [
    {
     "name": "stdout",
     "output_type": "stream",
     "text": [
      "Your set is: {2, 3, 5}\n"
     ]
    }
   ],
   "source": [
    "print(s1)"
   ]
  },
  {
   "cell_type": "code",
   "execution_count": null,
   "id": "cd0efaf5",
   "metadata": {},
   "outputs": [],
   "source": []
  }
 ],
 "metadata": {
  "kernelspec": {
   "display_name": "Python 3",
   "language": "python",
   "name": "python3"
  },
  "language_info": {
   "codemirror_mode": {
    "name": "ipython",
    "version": 3
   },
   "file_extension": ".py",
   "mimetype": "text/x-python",
   "name": "python",
   "nbconvert_exporter": "python",
   "pygments_lexer": "ipython3",
   "version": "3.8.8"
  }
 },
 "nbformat": 4,
 "nbformat_minor": 5
}
